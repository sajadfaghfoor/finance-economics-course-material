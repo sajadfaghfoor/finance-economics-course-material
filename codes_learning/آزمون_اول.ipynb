{
  "nbformat": 4,
  "nbformat_minor": 0,
  "metadata": {
    "colab": {
      "name": "آزمون اول.ipynb",
      "provenance": []
    },
    "kernelspec": {
      "name": "python3",
      "display_name": "Python 3"
    },
    "language_info": {
      "name": "python"
    }
  },
  "cells": [
    {
      "cell_type": "code",
      "metadata": {
        "id": "Ugf36NIw_knl"
      },
      "source": [
        "import pandas as pd\n",
        "\n",
        "df = pd.read_csv('https://raw.githubusercontent.com/sajadfaghfoor/dataset/main/daily_tickers/%D9%88%D8%B3%D8%A7%D8%AE%D8%AA-%D8%AA.csv')"
      ],
      "execution_count": 1,
      "outputs": []
    },
    {
      "cell_type": "code",
      "metadata": {
        "id": "U6KjFT4uFv4Q"
      },
      "source": [
        "closes = list(df.close)"
      ],
      "execution_count": 20,
      "outputs": []
    },
    {
      "cell_type": "code",
      "metadata": {
        "id": "T9uS1SkxF1QJ"
      },
      "source": [
        "tshm = 0\n",
        "cash = 100\n",
        "\n",
        "for i in range(200, len(closes)):\n",
        "    maNow = sum(closes[i-200:i])/200\n",
        "    if maNow < closes[i] and cash != 0:\n",
        "        tshm += cash/closes[i]\n",
        "        cash = 0\n",
        "    if maNow > closes[i] and tshm != 0:\n",
        "        cash += closes[i]*tshm\n",
        "        tshm = 0"
      ],
      "execution_count": 21,
      "outputs": []
    },
    {
      "cell_type": "code",
      "metadata": {
        "colab": {
          "base_uri": "https://localhost:8080/"
        },
        "id": "3xTnRRpsHkHT",
        "outputId": "268c34c0-6f33-40eb-f7a1-0cc4d01d4374"
      },
      "source": [
        "tshm * closes[-1] + cash"
      ],
      "execution_count": 22,
      "outputs": [
        {
          "output_type": "execute_result",
          "data": {
            "text/plain": [
              "6263.681268793129"
            ]
          },
          "metadata": {},
          "execution_count": 22
        }
      ]
    }
  ]
}