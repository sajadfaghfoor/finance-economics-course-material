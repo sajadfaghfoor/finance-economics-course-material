{
  "nbformat": 4,
  "nbformat_minor": 0,
  "metadata": {
    "colab": {
      "name": "آشنایی.ipynb",
      "provenance": [],
      "collapsed_sections": []
    },
    "kernelspec": {
      "name": "python3",
      "display_name": "Python 3"
    },
    "language_info": {
      "name": "python"
    }
  },
  "cells": [
    {
      "cell_type": "markdown",
      "metadata": {
        "id": "2cJ7V1p-yI2d"
      },
      "source": [
        "جلسه ۱۴ مهر ماه ۱۴۰۰"
      ]
    },
    {
      "cell_type": "markdown",
      "metadata": {
        "id": "1W8b7f65vXSG"
      },
      "source": [
        "پایه هشتم\n"
      ]
    },
    {
      "cell_type": "code",
      "metadata": {
        "id": "qPZ4b_lxATg7"
      },
      "source": [
        "num = int(input())\n",
        "for i in range(num):\n",
        "    print(i)"
      ],
      "execution_count": null,
      "outputs": []
    },
    {
      "cell_type": "code",
      "metadata": {
        "id": "VOze095YAqbl"
      },
      "source": [
        "# List - Dict - Tuple"
      ],
      "execution_count": null,
      "outputs": []
    },
    {
      "cell_type": "code",
      "metadata": {
        "id": "qSQLi9NFA09y"
      },
      "source": [
        "# Series - Dataframe"
      ],
      "execution_count": null,
      "outputs": []
    },
    {
      "cell_type": "code",
      "metadata": {
        "colab": {
          "base_uri": "https://localhost:8080/"
        },
        "id": "SkK9G_BaA59d",
        "outputId": "08e84cec-3de4-48eb-96e4-d6eee8ac8e8a"
      },
      "source": [
        "# یادآوری\n",
        "ls = []\n",
        "for i in range(7):\n",
        "    tmp = i**2\n",
        "    ls.append(tmp)\n",
        "print(ls)"
      ],
      "execution_count": 2,
      "outputs": [
        {
          "output_type": "stream",
          "name": "stdout",
          "text": [
            "[0, 1, 4, 9, 16, 25, 36]\n"
          ]
        }
      ]
    },
    {
      "cell_type": "code",
      "metadata": {
        "colab": {
          "base_uri": "https://localhost:8080/"
        },
        "id": "SNccQwlhCEsh",
        "outputId": "4ff8d41e-9ca5-4c26-909d-ab3cf577154e"
      },
      "source": [
        "# یادآوری\n",
        "print(ls[6])\n",
        "print(ls)\n",
        "ls[6] = 9\n",
        "print(ls[6])\n",
        "print(ls)\n",
        "ls[2] == 4\n",
        "ls = list(range(10))\n",
        "tmpInt = int(4.3) #4\n",
        "list(range(10))\n",
        "list(range(10))\n",
        "ls = [1,3,5]\n",
        "ls.pop(2)\n",
        "for tmp in ls:\n",
        "    print(tmp)"
      ],
      "execution_count": 14,
      "outputs": [
        {
          "output_type": "stream",
          "name": "stdout",
          "text": [
            "1\n",
            "3\n"
          ]
        }
      ]
    },
    {
      "cell_type": "code",
      "metadata": {
        "colab": {
          "base_uri": "https://localhost:8080/"
        },
        "id": "77i100o1DqeD",
        "outputId": "9faf37ed-15f0-41d0-dcaa-bf697be70e90"
      },
      "source": [
        "a = 'sajad'\n",
        "b = 'armin'\n",
        "# print(a, b)\n",
        "armin = [1,2,5]\n",
        "sajad = [4,3.14,1.62]\n",
        "afshin = ['sajad', 'sara', 'mani']\n",
        "# print(armin)\n",
        "# print(sajad)\n",
        "\n",
        "list2d = [armin, sajad, afshin]\n",
        "\"\"\"\n",
        "0: 1 | 2    | 5\n",
        "1: 4 | 3.14 | 1.62\n",
        "2: 'sajad' | 'sara' | 'mani'\n",
        "\"\"\"\n",
        "list2d[2][1] = 'sanaz'\n",
        "list2d\n",
        "# print(armin, sajad, u)"
      ],
      "execution_count": 23,
      "outputs": [
        {
          "output_type": "execute_result",
          "data": {
            "text/plain": [
              "[[1, 2, 5], [4, 3.14, 1.62], ['sajad', 'sanaz', 'mani']]"
            ]
          },
          "metadata": {},
          "execution_count": 23
        }
      ]
    },
    {
      "cell_type": "code",
      "metadata": {
        "id": "Idzwtp9IHL0h",
        "colab": {
          "base_uri": "https://localhost:8080/",
          "height": 419
        },
        "outputId": "7b6eef9d-9459-4531-db51-a0d7fbd7d6d1"
      },
      "source": [
        "# این چیزایی که اینجا نوشته میشه رو سخت نگیرید\n",
        "# بعدا توضیح میدمشون\n",
        "import pandas \n",
        "\n",
        "df = pandas.read_csv('https://raw.githubusercontent.com/sajadfaghfoor/dataset/main/daily_adj_candles/%D8%A2%DA%AF%D8%A7%D8%B3-%D8%AA.csv')\n",
        "# pricels = list(df.close)\n",
        "# len(pricels)\n",
        "# df.close.plot()\n",
        "# df.low[0] = 5\n",
        "df"
      ],
      "execution_count": 67,
      "outputs": [
        {
          "output_type": "execute_result",
          "data": {
            "text/html": [
              "<div>\n",
              "<style scoped>\n",
              "    .dataframe tbody tr th:only-of-type {\n",
              "        vertical-align: middle;\n",
              "    }\n",
              "\n",
              "    .dataframe tbody tr th {\n",
              "        vertical-align: top;\n",
              "    }\n",
              "\n",
              "    .dataframe thead th {\n",
              "        text-align: right;\n",
              "    }\n",
              "</style>\n",
              "<table border=\"1\" class=\"dataframe\">\n",
              "  <thead>\n",
              "    <tr style=\"text-align: right;\">\n",
              "      <th></th>\n",
              "      <th>date</th>\n",
              "      <th>open</th>\n",
              "      <th>high</th>\n",
              "      <th>low</th>\n",
              "      <th>last</th>\n",
              "      <th>close</th>\n",
              "      <th>vol</th>\n",
              "      <th>count</th>\n",
              "      <th>value</th>\n",
              "    </tr>\n",
              "  </thead>\n",
              "  <tbody>\n",
              "    <tr>\n",
              "      <th>0</th>\n",
              "      <td>20151101</td>\n",
              "      <td>2510.45</td>\n",
              "      <td>2510.0</td>\n",
              "      <td>2510.0</td>\n",
              "      <td>2510.45</td>\n",
              "      <td>2510.45</td>\n",
              "      <td>103293</td>\n",
              "      <td>7</td>\n",
              "      <td>1.032930e+09</td>\n",
              "    </tr>\n",
              "    <tr>\n",
              "      <th>1</th>\n",
              "      <td>20151102</td>\n",
              "      <td>2510.45</td>\n",
              "      <td>2510.0</td>\n",
              "      <td>2510.0</td>\n",
              "      <td>2510.45</td>\n",
              "      <td>2510.45</td>\n",
              "      <td>259250</td>\n",
              "      <td>6</td>\n",
              "      <td>2.592500e+09</td>\n",
              "    </tr>\n",
              "    <tr>\n",
              "      <th>2</th>\n",
              "      <td>20151103</td>\n",
              "      <td>2510.45</td>\n",
              "      <td>2510.0</td>\n",
              "      <td>2510.0</td>\n",
              "      <td>2510.45</td>\n",
              "      <td>2510.45</td>\n",
              "      <td>565304</td>\n",
              "      <td>16</td>\n",
              "      <td>5.653040e+09</td>\n",
              "    </tr>\n",
              "    <tr>\n",
              "      <th>3</th>\n",
              "      <td>20151104</td>\n",
              "      <td>2510.45</td>\n",
              "      <td>2510.0</td>\n",
              "      <td>2510.0</td>\n",
              "      <td>2510.45</td>\n",
              "      <td>2510.45</td>\n",
              "      <td>3072153</td>\n",
              "      <td>113</td>\n",
              "      <td>3.072153e+10</td>\n",
              "    </tr>\n",
              "    <tr>\n",
              "      <th>4</th>\n",
              "      <td>20160215</td>\n",
              "      <td>3391.61</td>\n",
              "      <td>3392.0</td>\n",
              "      <td>3392.0</td>\n",
              "      <td>3391.61</td>\n",
              "      <td>3391.61</td>\n",
              "      <td>5380</td>\n",
              "      <td>16</td>\n",
              "      <td>7.268380e+07</td>\n",
              "    </tr>\n",
              "    <tr>\n",
              "      <th>...</th>\n",
              "      <td>...</td>\n",
              "      <td>...</td>\n",
              "      <td>...</td>\n",
              "      <td>...</td>\n",
              "      <td>...</td>\n",
              "      <td>...</td>\n",
              "      <td>...</td>\n",
              "      <td>...</td>\n",
              "      <td>...</td>\n",
              "    </tr>\n",
              "    <tr>\n",
              "      <th>908</th>\n",
              "      <td>20210719</td>\n",
              "      <td>72411.00</td>\n",
              "      <td>73639.0</td>\n",
              "      <td>72411.0</td>\n",
              "      <td>73365.00</td>\n",
              "      <td>73259.00</td>\n",
              "      <td>885914</td>\n",
              "      <td>887</td>\n",
              "      <td>6.490129e+10</td>\n",
              "    </tr>\n",
              "    <tr>\n",
              "      <th>909</th>\n",
              "      <td>20210726</td>\n",
              "      <td>73599.00</td>\n",
              "      <td>74443.0</td>\n",
              "      <td>73262.0</td>\n",
              "      <td>74330.00</td>\n",
              "      <td>74014.00</td>\n",
              "      <td>1613526</td>\n",
              "      <td>1553</td>\n",
              "      <td>1.194237e+11</td>\n",
              "    </tr>\n",
              "    <tr>\n",
              "      <th>910</th>\n",
              "      <td>20210727</td>\n",
              "      <td>74001.00</td>\n",
              "      <td>74444.0</td>\n",
              "      <td>72900.0</td>\n",
              "      <td>73300.00</td>\n",
              "      <td>73508.00</td>\n",
              "      <td>1546106</td>\n",
              "      <td>1166</td>\n",
              "      <td>1.136507e+11</td>\n",
              "    </tr>\n",
              "    <tr>\n",
              "      <th>911</th>\n",
              "      <td>20210728</td>\n",
              "      <td>73500.00</td>\n",
              "      <td>74471.0</td>\n",
              "      <td>73400.0</td>\n",
              "      <td>74465.00</td>\n",
              "      <td>74005.00</td>\n",
              "      <td>1118269</td>\n",
              "      <td>1237</td>\n",
              "      <td>8.275743e+10</td>\n",
              "    </tr>\n",
              "    <tr>\n",
              "      <th>912</th>\n",
              "      <td>20210731</td>\n",
              "      <td>74498.00</td>\n",
              "      <td>77815.0</td>\n",
              "      <td>74490.0</td>\n",
              "      <td>77815.00</td>\n",
              "      <td>76582.00</td>\n",
              "      <td>2499540</td>\n",
              "      <td>2214</td>\n",
              "      <td>1.914195e+11</td>\n",
              "    </tr>\n",
              "  </tbody>\n",
              "</table>\n",
              "<p>913 rows × 9 columns</p>\n",
              "</div>"
            ],
            "text/plain": [
              "         date      open     high  ...      vol  count         value\n",
              "0    20151101   2510.45   2510.0  ...   103293      7  1.032930e+09\n",
              "1    20151102   2510.45   2510.0  ...   259250      6  2.592500e+09\n",
              "2    20151103   2510.45   2510.0  ...   565304     16  5.653040e+09\n",
              "3    20151104   2510.45   2510.0  ...  3072153    113  3.072153e+10\n",
              "4    20160215   3391.61   3392.0  ...     5380     16  7.268380e+07\n",
              "..        ...       ...      ...  ...      ...    ...           ...\n",
              "908  20210719  72411.00  73639.0  ...   885914    887  6.490129e+10\n",
              "909  20210726  73599.00  74443.0  ...  1613526   1553  1.194237e+11\n",
              "910  20210727  74001.00  74444.0  ...  1546106   1166  1.136507e+11\n",
              "911  20210728  73500.00  74471.0  ...  1118269   1237  8.275743e+10\n",
              "912  20210731  74498.00  77815.0  ...  2499540   2214  1.914195e+11\n",
              "\n",
              "[913 rows x 9 columns]"
            ]
          },
          "metadata": {},
          "execution_count": 67
        }
      ]
    },
    {
      "cell_type": "code",
      "metadata": {
        "id": "pTVxvfi5JRT3"
      },
      "source": [
        "# این چیزایی که اینجا نوشته میشه رو سخت نگیرید\n",
        "# بعدا توضیح میدمشون\n",
        "# import matplotlib.pyplot as plt\n",
        "# import math\n",
        "# plt.plot(list(map(math.log, price)))\n",
        "# df['close'] === df.close\n",
        "# df['last'] !=== df.last\n",
        "# df['(high - low)/low'] = (df['high'] - df['low'])/df['low'] * 100\n",
        "# df['close price']\n",
        "# pricels = list(df['close'])\n",
        "# pricels"
      ],
      "execution_count": 69,
      "outputs": []
    },
    {
      "cell_type": "code",
      "metadata": {
        "id": "LLKyori4KBeL"
      },
      "source": [
        "def panic_mode(todayp, lastweekp):\n",
        "    if todayp / lastweekp < 0.9:\n",
        "        return True\n",
        "    return False\n",
        "\n",
        "def profit_mode(todayp, lastweekp):\n",
        "    if todayp / lastweekp > 1.1:\n",
        "        return True\n",
        "    return False\n",
        "\n",
        "pricels = list(df['close'])\n",
        "length = len(pricels)\n",
        "\n",
        "wealth = 100 # 100 MT\n",
        "tsahm = 0\n",
        "inMarket = False\n",
        "\n",
        "wealthls = []\n",
        "\n",
        "for i in range(7, length):\n",
        "    todayp = pricels[i]\n",
        "    lastweekp = pricels[i-7]\n",
        "\n",
        "    panicing = panic_mode(todayp, lastweekp)\n",
        "    profit = profit_mode(todayp, lastweekp)\n",
        "    \n",
        "    if panicing and inMarket:\n",
        "        wealth = (todayp * tsahm) * 0.9925\n",
        "        tsahm = 0\n",
        "        inMarket = False\n",
        "    elif profit and not inMarket:\n",
        "        tsahm = wealth * 0.9925 / todayp\n",
        "        wealth = 0\n",
        "        inMarket = True\n",
        "    \n",
        "    wealthls.append(wealth + tsahm * todayp)\n",
        "        # print('profit', i)"
      ],
      "execution_count": 70,
      "outputs": []
    },
    {
      "cell_type": "code",
      "metadata": {
        "colab": {
          "base_uri": "https://localhost:8080/",
          "height": 283
        },
        "id": "vA3lsTHoNvOw",
        "outputId": "38c78342-f1d8-42e6-b0ed-627e6b791927"
      },
      "source": [
        "plt.plot(wealthls)"
      ],
      "execution_count": 71,
      "outputs": [
        {
          "output_type": "execute_result",
          "data": {
            "text/plain": [
              "[<matplotlib.lines.Line2D at 0x7fc9ee0c1cd0>]"
            ]
          },
          "metadata": {},
          "execution_count": 71
        },
        {
          "output_type": "display_data",
          "data": {
            "image/png": "[encoded data removed]",
            "text/plain": [
              "<Figure size 432x288 with 1 Axes>"
            ]
          },
          "metadata": {
            "needs_background": "light"
          }
        }
      ]
    },
    {
      "cell_type": "markdown",
      "metadata": {
        "id": "kMHKsiLxx-y_"
      },
      "source": [
        "پایه نهم"
      ]
    },
    {
      "cell_type": "code",
      "metadata": {
        "colab": {
          "base_uri": "https://localhost:8080/"
        },
        "id": "P95uL48bbtU_",
        "outputId": "f8dbbe7a-7c59-45d5-c287-1c766637300f"
      },
      "source": [
        "ls = []\n",
        "# ls.append()\n",
        "# ls.insert()\n",
        "ls = [1,2,3]\n",
        "ls[1] = 1231\n",
        "ls = ['Ilya', 'Radman', 'Hafez']\n",
        "\n",
        "for name in ls:\n",
        "    print(name, 'is good!')\n",
        "\n",
        "ls = ['Sajad', 'Sam', 'Kamyar']\n",
        "for i in range(len(ls)):\n",
        "    name = ls[i]\n",
        "    print(name, 'is the teacher!')\n",
        "\n",
        "\n",
        "ls = ['Sajad', 'Sam', 'Kamyar']\n",
        "for name in ls:\n",
        "    # name = ls[i]\n",
        "    print(name, 'is the teacher!')"
      ],
      "execution_count": 73,
      "outputs": [
        {
          "output_type": "stream",
          "name": "stdout",
          "text": [
            "Ilya is good!\n",
            "Radman is good!\n",
            "Hafez is good!\n",
            "Sajad is the teacher!\n",
            "Sam is the teacher!\n",
            "Kamyar is the teacher!\n",
            "Sajad is the teacher!\n",
            "Sam is the teacher!\n",
            "Kamyar is the teacher!\n"
          ]
        }
      ]
    },
    {
      "cell_type": "code",
      "metadata": {
        "id": "PsMeV3bcceu6"
      },
      "source": [
        "dic_price = {'close': {\"2\":100, \"1\":101, \"0\":105}, 'vol': [1000, 900, 1020]}\n",
        "d = {'sajad': 21, 'ali': 14}\n",
        "# dic_price['close']['2']"
      ],
      "execution_count": 75,
      "outputs": []
    },
    {
      "cell_type": "code",
      "metadata": {
        "id": "TpY4WaVCdNO-",
        "colab": {
          "base_uri": "https://localhost:8080/",
          "height": 204
        },
        "outputId": "a69e18c2-043a-44ee-8fa8-57c5932bc3eb"
      },
      "source": [
        "import pandas \n",
        "# import pygame\n",
        "# import matplotlib.pyplot as plt\n",
        "# import math\n",
        "# import random\n",
        "# import turtle\n",
        "df = pandas.read_csv('https://raw.githubusercontent.com/sajadfaghfoor/dataset/main/daily_adj_candles/%D8%A2%DA%AF%D8%A7%D8%B3-%D8%AA.csv')\n",
        "# df.loc[909, 'high']\n",
        "# df['close']\n",
        "# df.loc[912,]\n",
        "# df.iat\n",
        "# df.iloc\n",
        "df.head()"
      ],
      "execution_count": 83,
      "outputs": [
        {
          "output_type": "execute_result",
          "data": {
            "text/html": [
              "<div>\n",
              "<style scoped>\n",
              "    .dataframe tbody tr th:only-of-type {\n",
              "        vertical-align: middle;\n",
              "    }\n",
              "\n",
              "    .dataframe tbody tr th {\n",
              "        vertical-align: top;\n",
              "    }\n",
              "\n",
              "    .dataframe thead th {\n",
              "        text-align: right;\n",
              "    }\n",
              "</style>\n",
              "<table border=\"1\" class=\"dataframe\">\n",
              "  <thead>\n",
              "    <tr style=\"text-align: right;\">\n",
              "      <th></th>\n",
              "      <th>date</th>\n",
              "      <th>open</th>\n",
              "      <th>high</th>\n",
              "      <th>low</th>\n",
              "      <th>last</th>\n",
              "      <th>close</th>\n",
              "      <th>vol</th>\n",
              "      <th>count</th>\n",
              "      <th>value</th>\n",
              "    </tr>\n",
              "  </thead>\n",
              "  <tbody>\n",
              "    <tr>\n",
              "      <th>0</th>\n",
              "      <td>20151101</td>\n",
              "      <td>2510.45</td>\n",
              "      <td>2510.0</td>\n",
              "      <td>2510.0</td>\n",
              "      <td>2510.45</td>\n",
              "      <td>2510.45</td>\n",
              "      <td>103293</td>\n",
              "      <td>7</td>\n",
              "      <td>1.032930e+09</td>\n",
              "    </tr>\n",
              "    <tr>\n",
              "      <th>1</th>\n",
              "      <td>20151102</td>\n",
              "      <td>2510.45</td>\n",
              "      <td>2510.0</td>\n",
              "      <td>2510.0</td>\n",
              "      <td>2510.45</td>\n",
              "      <td>2510.45</td>\n",
              "      <td>259250</td>\n",
              "      <td>6</td>\n",
              "      <td>2.592500e+09</td>\n",
              "    </tr>\n",
              "    <tr>\n",
              "      <th>2</th>\n",
              "      <td>20151103</td>\n",
              "      <td>2510.45</td>\n",
              "      <td>2510.0</td>\n",
              "      <td>2510.0</td>\n",
              "      <td>2510.45</td>\n",
              "      <td>2510.45</td>\n",
              "      <td>565304</td>\n",
              "      <td>16</td>\n",
              "      <td>5.653040e+09</td>\n",
              "    </tr>\n",
              "    <tr>\n",
              "      <th>3</th>\n",
              "      <td>20151104</td>\n",
              "      <td>2510.45</td>\n",
              "      <td>2510.0</td>\n",
              "      <td>2510.0</td>\n",
              "      <td>2510.45</td>\n",
              "      <td>2510.45</td>\n",
              "      <td>3072153</td>\n",
              "      <td>113</td>\n",
              "      <td>3.072153e+10</td>\n",
              "    </tr>\n",
              "    <tr>\n",
              "      <th>4</th>\n",
              "      <td>20160215</td>\n",
              "      <td>3391.61</td>\n",
              "      <td>3392.0</td>\n",
              "      <td>3392.0</td>\n",
              "      <td>3391.61</td>\n",
              "      <td>3391.61</td>\n",
              "      <td>5380</td>\n",
              "      <td>16</td>\n",
              "      <td>7.268380e+07</td>\n",
              "    </tr>\n",
              "  </tbody>\n",
              "</table>\n",
              "</div>"
            ],
            "text/plain": [
              "       date     open    high     low  ...    close      vol  count         value\n",
              "0  20151101  2510.45  2510.0  2510.0  ...  2510.45   103293      7  1.032930e+09\n",
              "1  20151102  2510.45  2510.0  2510.0  ...  2510.45   259250      6  2.592500e+09\n",
              "2  20151103  2510.45  2510.0  2510.0  ...  2510.45   565304     16  5.653040e+09\n",
              "3  20151104  2510.45  2510.0  2510.0  ...  2510.45  3072153    113  3.072153e+10\n",
              "4  20160215  3391.61  3392.0  3392.0  ...  3391.61     5380     16  7.268380e+07\n",
              "\n",
              "[5 rows x 9 columns]"
            ]
          },
          "metadata": {},
          "execution_count": 83
        }
      ]
    },
    {
      "cell_type": "code",
      "metadata": {
        "id": "25MI_i07hjV6",
        "colab": {
          "base_uri": "https://localhost:8080/",
          "height": 390
        },
        "outputId": "400a5112-d3c4-4243-8f5b-ee65c9a55cf8"
      },
      "source": [
        "df = pandas.read_csv('https://raw.githubusercontent.com/sajadfaghfoor/dataset/main/daily_adj_candles/%D8%A2%DA%AF%D8%A7%D8%B3-%D8%AA.csv')\n",
        "\n",
        "df['date'] = pandas.to_datetime(df['date'], \n",
        "                            format='%Y%m%d')\n",
        "df = df.set_index('date')\n",
        "# print(df['close'])\n",
        "# df['close']\n",
        "# df.loc[1, 'vol']\n",
        "df.head(10)"
      ],
      "execution_count": 93,
      "outputs": [
        {
          "output_type": "execute_result",
          "data": {
            "text/html": [
              "<div>\n",
              "<style scoped>\n",
              "    .dataframe tbody tr th:only-of-type {\n",
              "        vertical-align: middle;\n",
              "    }\n",
              "\n",
              "    .dataframe tbody tr th {\n",
              "        vertical-align: top;\n",
              "    }\n",
              "\n",
              "    .dataframe thead th {\n",
              "        text-align: right;\n",
              "    }\n",
              "</style>\n",
              "<table border=\"1\" class=\"dataframe\">\n",
              "  <thead>\n",
              "    <tr style=\"text-align: right;\">\n",
              "      <th></th>\n",
              "      <th>open</th>\n",
              "      <th>high</th>\n",
              "      <th>low</th>\n",
              "      <th>last</th>\n",
              "      <th>close</th>\n",
              "      <th>vol</th>\n",
              "      <th>count</th>\n",
              "      <th>value</th>\n",
              "    </tr>\n",
              "    <tr>\n",
              "      <th>date</th>\n",
              "      <th></th>\n",
              "      <th></th>\n",
              "      <th></th>\n",
              "      <th></th>\n",
              "      <th></th>\n",
              "      <th></th>\n",
              "      <th></th>\n",
              "      <th></th>\n",
              "    </tr>\n",
              "  </thead>\n",
              "  <tbody>\n",
              "    <tr>\n",
              "      <th>2015-11-01</th>\n",
              "      <td>2510.45</td>\n",
              "      <td>2510.0</td>\n",
              "      <td>2510.0</td>\n",
              "      <td>2510.45</td>\n",
              "      <td>2510.45</td>\n",
              "      <td>103293</td>\n",
              "      <td>7</td>\n",
              "      <td>1.032930e+09</td>\n",
              "    </tr>\n",
              "    <tr>\n",
              "      <th>2015-11-02</th>\n",
              "      <td>2510.45</td>\n",
              "      <td>2510.0</td>\n",
              "      <td>2510.0</td>\n",
              "      <td>2510.45</td>\n",
              "      <td>2510.45</td>\n",
              "      <td>259250</td>\n",
              "      <td>6</td>\n",
              "      <td>2.592500e+09</td>\n",
              "    </tr>\n",
              "    <tr>\n",
              "      <th>2015-11-03</th>\n",
              "      <td>2510.45</td>\n",
              "      <td>2510.0</td>\n",
              "      <td>2510.0</td>\n",
              "      <td>2510.45</td>\n",
              "      <td>2510.45</td>\n",
              "      <td>565304</td>\n",
              "      <td>16</td>\n",
              "      <td>5.653040e+09</td>\n",
              "    </tr>\n",
              "    <tr>\n",
              "      <th>2015-11-04</th>\n",
              "      <td>2510.45</td>\n",
              "      <td>2510.0</td>\n",
              "      <td>2510.0</td>\n",
              "      <td>2510.45</td>\n",
              "      <td>2510.45</td>\n",
              "      <td>3072153</td>\n",
              "      <td>113</td>\n",
              "      <td>3.072153e+10</td>\n",
              "    </tr>\n",
              "    <tr>\n",
              "      <th>2016-02-15</th>\n",
              "      <td>3391.61</td>\n",
              "      <td>3392.0</td>\n",
              "      <td>3392.0</td>\n",
              "      <td>3391.61</td>\n",
              "      <td>3391.61</td>\n",
              "      <td>5380</td>\n",
              "      <td>16</td>\n",
              "      <td>7.268380e+07</td>\n",
              "    </tr>\n",
              "    <tr>\n",
              "      <th>2016-02-16</th>\n",
              "      <td>3389.10</td>\n",
              "      <td>3392.0</td>\n",
              "      <td>3389.0</td>\n",
              "      <td>3391.86</td>\n",
              "      <td>3390.86</td>\n",
              "      <td>69015</td>\n",
              "      <td>8</td>\n",
              "      <td>9.322037e+08</td>\n",
              "    </tr>\n",
              "    <tr>\n",
              "      <th>2016-02-17</th>\n",
              "      <td>3389.60</td>\n",
              "      <td>3390.0</td>\n",
              "      <td>3390.0</td>\n",
              "      <td>3389.60</td>\n",
              "      <td>3389.60</td>\n",
              "      <td>2000</td>\n",
              "      <td>3</td>\n",
              "      <td>2.700400e+07</td>\n",
              "    </tr>\n",
              "    <tr>\n",
              "      <th>2016-02-20</th>\n",
              "      <td>3389.60</td>\n",
              "      <td>3390.0</td>\n",
              "      <td>3389.0</td>\n",
              "      <td>3389.35</td>\n",
              "      <td>3389.35</td>\n",
              "      <td>15000</td>\n",
              "      <td>2</td>\n",
              "      <td>2.025190e+08</td>\n",
              "    </tr>\n",
              "    <tr>\n",
              "      <th>2016-02-23</th>\n",
              "      <td>3389.10</td>\n",
              "      <td>3389.0</td>\n",
              "      <td>3389.0</td>\n",
              "      <td>3389.10</td>\n",
              "      <td>3389.10</td>\n",
              "      <td>1010</td>\n",
              "      <td>1</td>\n",
              "      <td>1.363500e+07</td>\n",
              "    </tr>\n",
              "    <tr>\n",
              "      <th>2016-02-27</th>\n",
              "      <td>3389.10</td>\n",
              "      <td>3389.0</td>\n",
              "      <td>3389.0</td>\n",
              "      <td>3389.10</td>\n",
              "      <td>3389.10</td>\n",
              "      <td>20500</td>\n",
              "      <td>5</td>\n",
              "      <td>2.767510e+08</td>\n",
              "    </tr>\n",
              "  </tbody>\n",
              "</table>\n",
              "</div>"
            ],
            "text/plain": [
              "               open    high     low  ...      vol  count         value\n",
              "date                                 ...                              \n",
              "2015-11-01  2510.45  2510.0  2510.0  ...   103293      7  1.032930e+09\n",
              "2015-11-02  2510.45  2510.0  2510.0  ...   259250      6  2.592500e+09\n",
              "2015-11-03  2510.45  2510.0  2510.0  ...   565304     16  5.653040e+09\n",
              "2015-11-04  2510.45  2510.0  2510.0  ...  3072153    113  3.072153e+10\n",
              "2016-02-15  3391.61  3392.0  3392.0  ...     5380     16  7.268380e+07\n",
              "2016-02-16  3389.10  3392.0  3389.0  ...    69015      8  9.322037e+08\n",
              "2016-02-17  3389.60  3390.0  3390.0  ...     2000      3  2.700400e+07\n",
              "2016-02-20  3389.60  3390.0  3389.0  ...    15000      2  2.025190e+08\n",
              "2016-02-23  3389.10  3389.0  3389.0  ...     1010      1  1.363500e+07\n",
              "2016-02-27  3389.10  3389.0  3389.0  ...    20500      5  2.767510e+08\n",
              "\n",
              "[10 rows x 8 columns]"
            ]
          },
          "metadata": {},
          "execution_count": 93
        }
      ]
    },
    {
      "cell_type": "code",
      "metadata": {
        "colab": {
          "base_uri": "https://localhost:8080/",
          "height": 450
        },
        "id": "2OTwtdJBjjSI",
        "outputId": "ebe3f5b2-5571-4b7a-89f5-0c5c82b1f5cf"
      },
      "source": [
        "df['close7Down'] = df['close'].shift(7)\n",
        "# df.head(20)\n",
        "TF = df['close'] / df['close7Down'] > 1.1\n",
        "df[TF]\n",
        "# pdf = df[df['close7Down'] > 1.1*df['close']]\n",
        "# pdf.head(2)"
      ],
      "execution_count": 110,
      "outputs": [
        {
          "output_type": "execute_result",
          "data": {
            "text/html": [
              "<div>\n",
              "<style scoped>\n",
              "    .dataframe tbody tr th:only-of-type {\n",
              "        vertical-align: middle;\n",
              "    }\n",
              "\n",
              "    .dataframe tbody tr th {\n",
              "        vertical-align: top;\n",
              "    }\n",
              "\n",
              "    .dataframe thead th {\n",
              "        text-align: right;\n",
              "    }\n",
              "</style>\n",
              "<table border=\"1\" class=\"dataframe\">\n",
              "  <thead>\n",
              "    <tr style=\"text-align: right;\">\n",
              "      <th></th>\n",
              "      <th>open</th>\n",
              "      <th>high</th>\n",
              "      <th>low</th>\n",
              "      <th>last</th>\n",
              "      <th>close</th>\n",
              "      <th>vol</th>\n",
              "      <th>count</th>\n",
              "      <th>value</th>\n",
              "      <th>close7Down</th>\n",
              "    </tr>\n",
              "    <tr>\n",
              "      <th>date</th>\n",
              "      <th></th>\n",
              "      <th></th>\n",
              "      <th></th>\n",
              "      <th></th>\n",
              "      <th></th>\n",
              "      <th></th>\n",
              "      <th></th>\n",
              "      <th></th>\n",
              "      <th></th>\n",
              "    </tr>\n",
              "  </thead>\n",
              "  <tbody>\n",
              "    <tr>\n",
              "      <th>2016-02-20</th>\n",
              "      <td>3389.60</td>\n",
              "      <td>3390.0</td>\n",
              "      <td>3389.0</td>\n",
              "      <td>3389.35</td>\n",
              "      <td>3389.35</td>\n",
              "      <td>15000</td>\n",
              "      <td>2</td>\n",
              "      <td>2.025190e+08</td>\n",
              "      <td>2510.45</td>\n",
              "    </tr>\n",
              "    <tr>\n",
              "      <th>2016-02-23</th>\n",
              "      <td>3389.10</td>\n",
              "      <td>3389.0</td>\n",
              "      <td>3389.0</td>\n",
              "      <td>3389.10</td>\n",
              "      <td>3389.10</td>\n",
              "      <td>1010</td>\n",
              "      <td>1</td>\n",
              "      <td>1.363500e+07</td>\n",
              "      <td>2510.45</td>\n",
              "    </tr>\n",
              "    <tr>\n",
              "      <th>2016-02-27</th>\n",
              "      <td>3389.10</td>\n",
              "      <td>3389.0</td>\n",
              "      <td>3389.0</td>\n",
              "      <td>3389.10</td>\n",
              "      <td>3389.10</td>\n",
              "      <td>20500</td>\n",
              "      <td>5</td>\n",
              "      <td>2.767510e+08</td>\n",
              "      <td>2510.45</td>\n",
              "    </tr>\n",
              "    <tr>\n",
              "      <th>2016-02-29</th>\n",
              "      <td>3389.10</td>\n",
              "      <td>3389.0</td>\n",
              "      <td>3389.0</td>\n",
              "      <td>3389.10</td>\n",
              "      <td>3389.10</td>\n",
              "      <td>3050</td>\n",
              "      <td>4</td>\n",
              "      <td>4.117500e+07</td>\n",
              "      <td>2510.45</td>\n",
              "    </tr>\n",
              "    <tr>\n",
              "      <th>2016-03-16</th>\n",
              "      <td>3813.37</td>\n",
              "      <td>3813.0</td>\n",
              "      <td>3813.0</td>\n",
              "      <td>3813.37</td>\n",
              "      <td>3813.37</td>\n",
              "      <td>1750000</td>\n",
              "      <td>18</td>\n",
              "      <td>2.658250e+10</td>\n",
              "      <td>3389.10</td>\n",
              "    </tr>\n",
              "    <tr>\n",
              "      <th>...</th>\n",
              "      <td>...</td>\n",
              "      <td>...</td>\n",
              "      <td>...</td>\n",
              "      <td>...</td>\n",
              "      <td>...</td>\n",
              "      <td>...</td>\n",
              "      <td>...</td>\n",
              "      <td>...</td>\n",
              "      <td>...</td>\n",
              "    </tr>\n",
              "    <tr>\n",
              "      <th>2021-01-30</th>\n",
              "      <td>67900.00</td>\n",
              "      <td>71300.0</td>\n",
              "      <td>66500.0</td>\n",
              "      <td>71300.00</td>\n",
              "      <td>70350.00</td>\n",
              "      <td>7826621</td>\n",
              "      <td>4379</td>\n",
              "      <td>5.505994e+11</td>\n",
              "      <td>62543.00</td>\n",
              "    </tr>\n",
              "    <tr>\n",
              "      <th>2021-03-16</th>\n",
              "      <td>68490.00</td>\n",
              "      <td>72199.0</td>\n",
              "      <td>67600.0</td>\n",
              "      <td>72199.00</td>\n",
              "      <td>70832.00</td>\n",
              "      <td>3226226</td>\n",
              "      <td>2892</td>\n",
              "      <td>2.285191e+11</td>\n",
              "      <td>62664.00</td>\n",
              "    </tr>\n",
              "    <tr>\n",
              "      <th>2021-03-17</th>\n",
              "      <td>72800.00</td>\n",
              "      <td>73300.0</td>\n",
              "      <td>71501.0</td>\n",
              "      <td>71800.00</td>\n",
              "      <td>72251.00</td>\n",
              "      <td>3236449</td>\n",
              "      <td>2609</td>\n",
              "      <td>2.338379e+11</td>\n",
              "      <td>64370.00</td>\n",
              "    </tr>\n",
              "    <tr>\n",
              "      <th>2021-03-27</th>\n",
              "      <td>72800.00</td>\n",
              "      <td>73860.0</td>\n",
              "      <td>70800.0</td>\n",
              "      <td>72900.00</td>\n",
              "      <td>72735.00</td>\n",
              "      <td>1665206</td>\n",
              "      <td>1949</td>\n",
              "      <td>1.211179e+11</td>\n",
              "      <td>65007.00</td>\n",
              "    </tr>\n",
              "    <tr>\n",
              "      <th>2021-03-28</th>\n",
              "      <td>72900.00</td>\n",
              "      <td>73800.0</td>\n",
              "      <td>71300.0</td>\n",
              "      <td>71500.00</td>\n",
              "      <td>72124.00</td>\n",
              "      <td>1420466</td>\n",
              "      <td>1816</td>\n",
              "      <td>1.024495e+11</td>\n",
              "      <td>64711.00</td>\n",
              "    </tr>\n",
              "  </tbody>\n",
              "</table>\n",
              "<p>119 rows × 9 columns</p>\n",
              "</div>"
            ],
            "text/plain": [
              "                open     high      low  ...  count         value  close7Down\n",
              "date                                    ...                                 \n",
              "2016-02-20   3389.60   3390.0   3389.0  ...      2  2.025190e+08     2510.45\n",
              "2016-02-23   3389.10   3389.0   3389.0  ...      1  1.363500e+07     2510.45\n",
              "2016-02-27   3389.10   3389.0   3389.0  ...      5  2.767510e+08     2510.45\n",
              "2016-02-29   3389.10   3389.0   3389.0  ...      4  4.117500e+07     2510.45\n",
              "2016-03-16   3813.37   3813.0   3813.0  ...     18  2.658250e+10     3389.10\n",
              "...              ...      ...      ...  ...    ...           ...         ...\n",
              "2021-01-30  67900.00  71300.0  66500.0  ...   4379  5.505994e+11    62543.00\n",
              "2021-03-16  68490.00  72199.0  67600.0  ...   2892  2.285191e+11    62664.00\n",
              "2021-03-17  72800.00  73300.0  71501.0  ...   2609  2.338379e+11    64370.00\n",
              "2021-03-27  72800.00  73860.0  70800.0  ...   1949  1.211179e+11    65007.00\n",
              "2021-03-28  72900.00  73800.0  71300.0  ...   1816  1.024495e+11    64711.00\n",
              "\n",
              "[119 rows x 9 columns]"
            ]
          },
          "metadata": {},
          "execution_count": 110
        }
      ]
    },
    {
      "cell_type": "code",
      "metadata": {
        "colab": {
          "base_uri": "https://localhost:8080/",
          "height": 173
        },
        "id": "ykJ8N9tpdzFs",
        "outputId": "c8df0b3a-5884-4a5c-d30a-9fb7ec85b209"
      },
      "source": [
        "lsTF = [True, True,]\n",
        "for i in range(910):\n",
        "    lsTF.append(False)\n",
        "lsTF.append(True)\n",
        "\n",
        "df[lsTF]"
      ],
      "execution_count": 108,
      "outputs": [
        {
          "output_type": "execute_result",
          "data": {
            "text/html": [
              "<div>\n",
              "<style scoped>\n",
              "    .dataframe tbody tr th:only-of-type {\n",
              "        vertical-align: middle;\n",
              "    }\n",
              "\n",
              "    .dataframe tbody tr th {\n",
              "        vertical-align: top;\n",
              "    }\n",
              "\n",
              "    .dataframe thead th {\n",
              "        text-align: right;\n",
              "    }\n",
              "</style>\n",
              "<table border=\"1\" class=\"dataframe\">\n",
              "  <thead>\n",
              "    <tr style=\"text-align: right;\">\n",
              "      <th></th>\n",
              "      <th>open</th>\n",
              "      <th>high</th>\n",
              "      <th>low</th>\n",
              "      <th>last</th>\n",
              "      <th>close</th>\n",
              "      <th>vol</th>\n",
              "      <th>count</th>\n",
              "      <th>value</th>\n",
              "      <th>close7Down</th>\n",
              "    </tr>\n",
              "    <tr>\n",
              "      <th>date</th>\n",
              "      <th></th>\n",
              "      <th></th>\n",
              "      <th></th>\n",
              "      <th></th>\n",
              "      <th></th>\n",
              "      <th></th>\n",
              "      <th></th>\n",
              "      <th></th>\n",
              "      <th></th>\n",
              "    </tr>\n",
              "  </thead>\n",
              "  <tbody>\n",
              "    <tr>\n",
              "      <th>2015-11-01</th>\n",
              "      <td>2510.45</td>\n",
              "      <td>2510.0</td>\n",
              "      <td>2510.0</td>\n",
              "      <td>2510.45</td>\n",
              "      <td>2510.45</td>\n",
              "      <td>103293</td>\n",
              "      <td>7</td>\n",
              "      <td>1.032930e+09</td>\n",
              "      <td>NaN</td>\n",
              "    </tr>\n",
              "    <tr>\n",
              "      <th>2015-11-02</th>\n",
              "      <td>2510.45</td>\n",
              "      <td>2510.0</td>\n",
              "      <td>2510.0</td>\n",
              "      <td>2510.45</td>\n",
              "      <td>2510.45</td>\n",
              "      <td>259250</td>\n",
              "      <td>6</td>\n",
              "      <td>2.592500e+09</td>\n",
              "      <td>NaN</td>\n",
              "    </tr>\n",
              "    <tr>\n",
              "      <th>2021-07-31</th>\n",
              "      <td>74498.00</td>\n",
              "      <td>77815.0</td>\n",
              "      <td>74490.0</td>\n",
              "      <td>77815.00</td>\n",
              "      <td>76582.00</td>\n",
              "      <td>2499540</td>\n",
              "      <td>2214</td>\n",
              "      <td>1.914195e+11</td>\n",
              "      <td>73163.0</td>\n",
              "    </tr>\n",
              "  </tbody>\n",
              "</table>\n",
              "</div>"
            ],
            "text/plain": [
              "                open     high      low  ...  count         value  close7Down\n",
              "date                                    ...                                 \n",
              "2015-11-01   2510.45   2510.0   2510.0  ...      7  1.032930e+09         NaN\n",
              "2015-11-02   2510.45   2510.0   2510.0  ...      6  2.592500e+09         NaN\n",
              "2021-07-31  74498.00  77815.0  74490.0  ...   2214  1.914195e+11     73163.0\n",
              "\n",
              "[3 rows x 9 columns]"
            ]
          },
          "metadata": {},
          "execution_count": 108
        }
      ]
    },
    {
      "cell_type": "code",
      "metadata": {
        "colab": {
          "base_uri": "https://localhost:8080/",
          "height": 282
        },
        "id": "jNRFZIvkk2aC",
        "outputId": "851d0e65-95dc-4e62-a377-a6e430953c1c"
      },
      "source": [
        "# چرا تحلیل تکنیکال کار می‌کند؟\n",
        "plt.plot(pdf.index)"
      ],
      "execution_count": null,
      "outputs": [
        {
          "output_type": "execute_result",
          "data": {
            "text/plain": [
              "[<matplotlib.lines.Line2D at 0x7fd10c39ee50>]"
            ]
          },
          "metadata": {},
          "execution_count": 147
        },
        {
          "output_type": "display_data",
          "data": {
            "image/png": "[encoded data removed]",
            "text/plain": [
              "<Figure size 432x288 with 1 Axes>"
            ]
          },
          "metadata": {
            "needs_background": "light"
          }
        }
      ]
    },
    {
      "cell_type": "code",
      "metadata": {
        "colab": {
          "base_uri": "https://localhost:8080/",
          "height": 588
        },
        "id": "-ZPO7HJnmNSG",
        "outputId": "f43c1a12-4e67-4e91-be5c-b4ee8366549b"
      },
      "source": [
        "# توصیه نمی شود\n",
        "import matplotlib.pyplot as plt\n",
        "\n",
        "plt.figure(figsize = (20,10))\n",
        "plt.plot(df.close)"
      ],
      "execution_count": 114,
      "outputs": [
        {
          "output_type": "execute_result",
          "data": {
            "text/plain": [
              "[<matplotlib.lines.Line2D at 0x7fc9edc65e90>]"
            ]
          },
          "metadata": {},
          "execution_count": 114
        },
        {
          "output_type": "display_data",
          "data": {
            "image/png": "[encoded data removed]",
            "text/plain": [
              "<Figure size 1440x720 with 1 Axes>"
            ]
          },
          "metadata": {
            "needs_background": "light"
          }
        }
      ]
    },
    {
      "cell_type": "code",
      "metadata": {
        "id": "QiSqcrgFnuD7"
      },
      "source": [
        "# choose sell and buy states\n",
        "df = pandas.read_csv('https://raw.githubusercontent.com/sajadfaghfoor/dataset/main/daily_adj_candles/%D8%A2%DA%AF%D8%A7%D8%B3-%D8%AA.csv')\n",
        "df['close7Down'] = df['close'].shift(7)\n",
        "\n",
        "TF1 = df['close'] / df['close7Down'] < 0.9\n",
        "sellState = df[TF1].index\n",
        "\n",
        "TF2 = df['close'] / df['close7Down'] > 1.1\n",
        "buyState = df[TF2].index"
      ],
      "execution_count": 131,
      "outputs": []
    },
    {
      "cell_type": "code",
      "metadata": {
        "id": "2MkRbfkUocxJ"
      },
      "source": [
        "tSaham = 0\n",
        "money = 100 \n",
        "# 0: ... len()-1\n",
        "max_idx = len(df) - 1\n",
        "curr_idx = 0\n",
        "\n",
        "wealthls = []\n",
        "\n",
        "while curr_idx <= max_idx:\n",
        "    if curr_idx in sellState:\n",
        "        money += tSaham*df.loc[curr_idx, 'close']\n",
        "        tSaham = 0\n",
        "    elif curr_idx in buyState:\n",
        "        tSaham += money / df.loc[curr_idx, 'close']\n",
        "        money = 0\n",
        "\n",
        "    wealth = df.loc[curr_idx, 'close']*tSaham + money\n",
        "    wealthls.append(wealth)\n",
        "\n",
        "    curr_idx += 1\n",
        "\n",
        "money += df.loc[max_idx, 'close']*tSaham"
      ],
      "execution_count": 132,
      "outputs": []
    },
    {
      "cell_type": "code",
      "metadata": {
        "colab": {
          "base_uri": "https://localhost:8080/",
          "height": 283
        },
        "id": "5LuubjEJp2fr",
        "outputId": "d51e1742-68c9-4867-afd0-f09744eae922"
      },
      "source": [
        "plt.plot(wealthls)"
      ],
      "execution_count": 133,
      "outputs": [
        {
          "output_type": "execute_result",
          "data": {
            "text/plain": [
              "[<matplotlib.lines.Line2D at 0x7fc9ede4ba10>]"
            ]
          },
          "metadata": {},
          "execution_count": 133
        },
        {
          "output_type": "display_data",
          "data": {
            "image/png": "[encoded data removed]",
            "text/plain": [
              "<Figure size 432x288 with 1 Axes>"
            ]
          },
          "metadata": {
            "needs_background": "light"
          }
        }
      ]
    }
  ]
}