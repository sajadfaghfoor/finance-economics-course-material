{
 "cells": [
  {
   "cell_type": "markdown",
   "metadata": {},
   "source": [
    "کد یکی از دانش‌آموزان که به عنوان نمونه قرار گرفت"
   ]
  },
  {
   "cell_type": "code",
   "execution_count": 16,
   "id": "a26e3e29",
   "metadata": {},
   "outputs": [],
   "source": [
    "import pandas\n",
    "import matplotlib.pyplot as plt"
   ]
  },
  {
   "cell_type": "code",
   "execution_count": 3,
   "id": "88088f62",
   "metadata": {},
   "outputs": [],
   "source": [
    "df = pandas.read_csv('https://raw.githubusercontent.com/sajadfaghfoor/dataset/main/daily_tickers/%D9%88%D8%B3%D8%A7%D8%AE%D8%AA-%D8%AA.csv')"
   ]
  },
  {
   "cell_type": "code",
   "execution_count": 4,
   "id": "7936b223",
   "metadata": {},
   "outputs": [
    {
     "data": {
      "text/html": [
       "<div>\n",
       "<style scoped>\n",
       "    .dataframe tbody tr th:only-of-type {\n",
       "        vertical-align: middle;\n",
       "    }\n",
       "\n",
       "    .dataframe tbody tr th {\n",
       "        vertical-align: top;\n",
       "    }\n",
       "\n",
       "    .dataframe thead th {\n",
       "        text-align: right;\n",
       "    }\n",
       "</style>\n",
       "<table border=\"1\" class=\"dataframe\">\n",
       "  <thead>\n",
       "    <tr style=\"text-align: right;\">\n",
       "      <th></th>\n",
       "      <th>date</th>\n",
       "      <th>open</th>\n",
       "      <th>high</th>\n",
       "      <th>low</th>\n",
       "      <th>last</th>\n",
       "      <th>close</th>\n",
       "      <th>vol</th>\n",
       "      <th>count</th>\n",
       "      <th>value</th>\n",
       "    </tr>\n",
       "  </thead>\n",
       "  <tbody>\n",
       "    <tr>\n",
       "      <th>0</th>\n",
       "      <td>20010325</td>\n",
       "      <td>875.12</td>\n",
       "      <td>875.0</td>\n",
       "      <td>875.0</td>\n",
       "      <td>875.12</td>\n",
       "      <td>875.12</td>\n",
       "      <td>21000</td>\n",
       "      <td>8</td>\n",
       "      <td>2.100000e+07</td>\n",
       "    </tr>\n",
       "    <tr>\n",
       "      <th>1</th>\n",
       "      <td>20010326</td>\n",
       "      <td>875.12</td>\n",
       "      <td>875.0</td>\n",
       "      <td>875.0</td>\n",
       "      <td>875.12</td>\n",
       "      <td>875.12</td>\n",
       "      <td>45000</td>\n",
       "      <td>8</td>\n",
       "      <td>4.500000e+07</td>\n",
       "    </tr>\n",
       "    <tr>\n",
       "      <th>2</th>\n",
       "      <td>20010327</td>\n",
       "      <td>875.12</td>\n",
       "      <td>875.0</td>\n",
       "      <td>875.0</td>\n",
       "      <td>875.12</td>\n",
       "      <td>875.12</td>\n",
       "      <td>60000</td>\n",
       "      <td>14</td>\n",
       "      <td>6.000000e+07</td>\n",
       "    </tr>\n",
       "    <tr>\n",
       "      <th>3</th>\n",
       "      <td>20010328</td>\n",
       "      <td>875.12</td>\n",
       "      <td>875.0</td>\n",
       "      <td>875.0</td>\n",
       "      <td>875.12</td>\n",
       "      <td>875.12</td>\n",
       "      <td>50000</td>\n",
       "      <td>9</td>\n",
       "      <td>5.000000e+07</td>\n",
       "    </tr>\n",
       "    <tr>\n",
       "      <th>4</th>\n",
       "      <td>20010331</td>\n",
       "      <td>875.12</td>\n",
       "      <td>875.0</td>\n",
       "      <td>875.0</td>\n",
       "      <td>875.12</td>\n",
       "      <td>875.12</td>\n",
       "      <td>45000</td>\n",
       "      <td>21</td>\n",
       "      <td>4.500000e+07</td>\n",
       "    </tr>\n",
       "    <tr>\n",
       "      <th>...</th>\n",
       "      <td>...</td>\n",
       "      <td>...</td>\n",
       "      <td>...</td>\n",
       "      <td>...</td>\n",
       "      <td>...</td>\n",
       "      <td>...</td>\n",
       "      <td>...</td>\n",
       "      <td>...</td>\n",
       "      <td>...</td>\n",
       "    </tr>\n",
       "    <tr>\n",
       "      <th>4427</th>\n",
       "      <td>20210713</td>\n",
       "      <td>49000.00</td>\n",
       "      <td>50140.0</td>\n",
       "      <td>47930.0</td>\n",
       "      <td>49290.00</td>\n",
       "      <td>48680.00</td>\n",
       "      <td>1459965</td>\n",
       "      <td>1081</td>\n",
       "      <td>7.106565e+10</td>\n",
       "    </tr>\n",
       "    <tr>\n",
       "      <th>4428</th>\n",
       "      <td>20210714</td>\n",
       "      <td>48180.00</td>\n",
       "      <td>51110.0</td>\n",
       "      <td>48170.0</td>\n",
       "      <td>51110.00</td>\n",
       "      <td>50390.00</td>\n",
       "      <td>1893349</td>\n",
       "      <td>1007</td>\n",
       "      <td>9.539817e+10</td>\n",
       "    </tr>\n",
       "    <tr>\n",
       "      <th>4429</th>\n",
       "      <td>20210727</td>\n",
       "      <td>52900.00</td>\n",
       "      <td>52900.0</td>\n",
       "      <td>52900.0</td>\n",
       "      <td>52900.00</td>\n",
       "      <td>52900.00</td>\n",
       "      <td>673626</td>\n",
       "      <td>216</td>\n",
       "      <td>3.563482e+10</td>\n",
       "    </tr>\n",
       "    <tr>\n",
       "      <th>4430</th>\n",
       "      <td>20210728</td>\n",
       "      <td>54000.00</td>\n",
       "      <td>55500.0</td>\n",
       "      <td>52050.0</td>\n",
       "      <td>53290.00</td>\n",
       "      <td>54070.00</td>\n",
       "      <td>2807088</td>\n",
       "      <td>2483</td>\n",
       "      <td>1.517755e+11</td>\n",
       "    </tr>\n",
       "    <tr>\n",
       "      <th>4431</th>\n",
       "      <td>20210731</td>\n",
       "      <td>53950.00</td>\n",
       "      <td>53950.0</td>\n",
       "      <td>51370.0</td>\n",
       "      <td>51370.00</td>\n",
       "      <td>51830.00</td>\n",
       "      <td>620002</td>\n",
       "      <td>778</td>\n",
       "      <td>3.213449e+10</td>\n",
       "    </tr>\n",
       "  </tbody>\n",
       "</table>\n",
       "<p>4432 rows × 9 columns</p>\n",
       "</div>"
      ],
      "text/plain": [
       "          date      open     high      low      last     close      vol  \\\n",
       "0     20010325    875.12    875.0    875.0    875.12    875.12    21000   \n",
       "1     20010326    875.12    875.0    875.0    875.12    875.12    45000   \n",
       "2     20010327    875.12    875.0    875.0    875.12    875.12    60000   \n",
       "3     20010328    875.12    875.0    875.0    875.12    875.12    50000   \n",
       "4     20010331    875.12    875.0    875.0    875.12    875.12    45000   \n",
       "...        ...       ...      ...      ...       ...       ...      ...   \n",
       "4427  20210713  49000.00  50140.0  47930.0  49290.00  48680.00  1459965   \n",
       "4428  20210714  48180.00  51110.0  48170.0  51110.00  50390.00  1893349   \n",
       "4429  20210727  52900.00  52900.0  52900.0  52900.00  52900.00   673626   \n",
       "4430  20210728  54000.00  55500.0  52050.0  53290.00  54070.00  2807088   \n",
       "4431  20210731  53950.00  53950.0  51370.0  51370.00  51830.00   620002   \n",
       "\n",
       "      count         value  \n",
       "0         8  2.100000e+07  \n",
       "1         8  4.500000e+07  \n",
       "2        14  6.000000e+07  \n",
       "3         9  5.000000e+07  \n",
       "4        21  4.500000e+07  \n",
       "...     ...           ...  \n",
       "4427   1081  7.106565e+10  \n",
       "4428   1007  9.539817e+10  \n",
       "4429    216  3.563482e+10  \n",
       "4430   2483  1.517755e+11  \n",
       "4431    778  3.213449e+10  \n",
       "\n",
       "[4432 rows x 9 columns]"
      ]
     },
     "execution_count": 4,
     "metadata": {},
     "output_type": "execute_result"
    }
   ],
   "source": [
    "df"
   ]
  },
  {
   "cell_type": "code",
   "execution_count": 6,
   "id": "afbcd4e5",
   "metadata": {},
   "outputs": [],
   "source": [
    "ma = []\n",
    "for i in range(200):\n",
    "    ma.append(None)\n",
    "for i in range(0,4232):\n",
    "    av = 0\n",
    "    for j in range(i,i+200):\n",
    "        av += df['close'][j]\n",
    "    ma.append(av)"
   ]
  },
  {
   "cell_type": "code",
   "execution_count": 8,
   "id": "ff4ea9c6",
   "metadata": {},
   "outputs": [
    {
     "data": {
      "text/plain": [
       "4432"
      ]
     },
     "execution_count": 8,
     "metadata": {},
     "output_type": "execute_result"
    }
   ],
   "source": [
    "len(ma)"
   ]
  },
  {
   "cell_type": "code",
   "execution_count": 9,
   "id": "4ea961ae",
   "metadata": {},
   "outputs": [],
   "source": [
    "df[\"ma\"] = ma"
   ]
  },
  {
   "cell_type": "code",
   "execution_count": 13,
   "id": "9ed6eadb",
   "metadata": {},
   "outputs": [],
   "source": [
    "sell = df['close'] > df[\"ma\"]\n",
    "sellState = df[sell].index\n",
    "buy = df['close'] < df[\"ma\"]\n",
    "buyState = df[buy].index"
   ]
  },
  {
   "cell_type": "code",
   "execution_count": 15,
   "id": "319bbbf2",
   "metadata": {},
   "outputs": [],
   "source": [
    "saham = 0\n",
    "money = 100 \n",
    "max_idx = len(df) - 1\n",
    "curr_idx = 0\n",
    "\n",
    "wealthls = []\n",
    "\n",
    "while curr_idx <= max_idx:\n",
    "    if curr_idx in sellState:\n",
    "        money += saham*df.loc[curr_idx, 'close']\n",
    "        tSaham = 0\n",
    "    elif curr_idx in buyState:\n",
    "        saham += money / df.loc[curr_idx, 'close']\n",
    "        money = 0\n",
    "\n",
    "    wealth = df.loc[curr_idx, 'close']*saham + money\n",
    "    wealthls.append(wealth)\n",
    "\n",
    "    curr_idx += 1\n",
    "\n",
    "money += df.loc[max_idx, 'close']*saham"
   ]
  },
  {
   "cell_type": "code",
   "execution_count": 17,
   "id": "183680ab",
   "metadata": {},
   "outputs": [
    {
     "data": {
      "image/png": "[encoded data removed]",
      "text/plain": [
       "<Figure size 432x288 with 1 Axes>"
      ]
     },
     "metadata": {
      "needs_background": "light"
     },
     "output_type": "display_data"
    }
   ],
   "source": [
    "plt.plot(wealthls)\n",
    "plt.show()"
   ]
  }
 ],
 "metadata": {
  "kernelspec": {
   "display_name": "Python 3 (ipykernel)",
   "language": "python",
   "name": "python3"
  },
  "language_info": {
   "codemirror_mode": {
    "name": "ipython",
    "version": 3
   },
   "file_extension": ".py",
   "mimetype": "text/x-python",
   "name": "python",
   "nbconvert_exporter": "python",
   "pygments_lexer": "ipython3",
   "version": "3.9.7"
  }
 },
 "nbformat": 4,
 "nbformat_minor": 5
}
