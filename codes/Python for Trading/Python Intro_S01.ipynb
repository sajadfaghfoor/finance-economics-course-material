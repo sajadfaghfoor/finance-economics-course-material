{
 "cells": [
  {
   "cell_type": "markdown",
   "id": "e2b0fb31",
   "metadata": {},
   "source": [
    "## Input/Output"
   ]
  },
  {
   "cell_type": "code",
   "execution_count": null,
   "id": "af6b435a",
   "metadata": {
    "scrolled": false
   },
   "outputs": [],
   "source": [
    "# input , print\n",
    "\n",
    "name = input(\"What is your name? \")\n",
    "print(f\"hello {name}\", end = \" \")"
   ]
  },
  {
   "cell_type": "markdown",
   "id": "a8bd6990",
   "metadata": {},
   "source": [
    "# Basic Data types"
   ]
  },
  {
   "cell_type": "code",
   "execution_count": null,
   "id": "f4a478ec",
   "metadata": {
    "scrolled": false
   },
   "outputs": [],
   "source": [
    "\n",
    "# boolean\n",
    "# integer \n",
    "# float\n"
   ]
  },
  {
   "cell_type": "code",
   "execution_count": null,
   "id": "053c88bd",
   "metadata": {
    "scrolled": false
   },
   "outputs": [],
   "source": [
    "# string\n",
    "# tuple\n",
    "# list\n",
    "# set \n",
    "# dictionary"
   ]
  },
  {
   "cell_type": "markdown",
   "id": "8378d917",
   "metadata": {},
   "source": [
    "## Primitive Data Types"
   ]
  },
  {
   "cell_type": "code",
   "execution_count": null,
   "id": "d6bfa70d",
   "metadata": {
    "scrolled": false
   },
   "outputs": [],
   "source": [
    "bool_var = True\n",
    "\n",
    "int_var = 12\n",
    "\n",
    "float_var = 2.485\n",
    "\n",
    "print(type())"
   ]
  },
  {
   "cell_type": "markdown",
   "id": "8b6bf227",
   "metadata": {},
   "source": [
    "### Collection Data Types\n",
    "There are four collection data types in the Python programming language:\n",
    "\n",
    "List is a collection which is ordered and changeable. Allows duplicate members.\n",
    "Tuple is a collection which is ordered and unchangeable. Allows duplicate members.\n",
    "Set is a collection which is unordered and unindexed. No duplicate members.\n",
    "Dictionary is a collection which is unordered and changeable. No duplicate members."
   ]
  },
  {
   "cell_type": "markdown",
   "id": "2680f1f7",
   "metadata": {},
   "source": [
    "### String"
   ]
  },
  {
   "cell_type": "code",
   "execution_count": 8,
   "id": "868145bf",
   "metadata": {
    "scrolled": false
   },
   "outputs": [
    {
     "name": "stdout",
     "output_type": "stream",
     "text": [
      "I\\m here.\n"
     ]
    }
   ],
   "source": [
    "str_var1 = \"some random !@#%&&^\"\n",
    "# equal to \n",
    "str_var2 = 'some random !@#%&&^'\n",
    "\n",
    "#all input are string.\n",
    "temp = 'I\\m here.'\n",
    "print(var)"
   ]
  },
  {
   "cell_type": "code",
   "execution_count": 13,
   "id": "7ded140d",
   "metadata": {
    "scrolled": false
   },
   "outputs": [
    {
     "name": "stdout",
     "output_type": "stream",
     "text": [
      "what does \\n do?\n"
     ]
    }
   ],
   "source": [
    "\n",
    "y1 = \"I'm Here\\bI\\'m There!\"\n",
    "z1 = 'I am \\\"Here\".'\n",
    "y2 = 'what does \\\\n do?'\n",
    "print(y2)\n",
    "#print(z1)"
   ]
  },
  {
   "cell_type": "code",
   "execution_count": 18,
   "id": "25f72699",
   "metadata": {
    "scrolled": false
   },
   "outputs": [
    {
     "name": "stdout",
     "output_type": "stream",
     "text": [
      "45\n"
     ]
    },
    {
     "data": {
      "text/plain": [
       "'1045'"
      ]
     },
     "execution_count": 18,
     "metadata": {},
     "output_type": "execute_result"
    }
   ],
   "source": [
    "x = input()\n",
    "\n",
    "\"10\" + x\n",
    "#print(type(x))"
   ]
  },
  {
   "cell_type": "code",
   "execution_count": null,
   "id": "14971536",
   "metadata": {
    "scrolled": false
   },
   "outputs": [],
   "source": [
    "# special characters\n",
    "greeting = \"Hello \\nHow are \\t you?\"\n",
    "\n",
    "print(greeting)"
   ]
  },
  {
   "cell_type": "markdown",
   "id": "3600ece2",
   "metadata": {},
   "source": [
    "### Tuple"
   ]
  },
  {
   "cell_type": "code",
   "execution_count": 20,
   "id": "c69bf7bc",
   "metadata": {
    "scrolled": false
   },
   "outputs": [
    {
     "name": "stdout",
     "output_type": "stream",
     "text": [
      "(0, 2, 4, 6, 8, 10)\n"
     ]
    },
    {
     "ename": "TypeError",
     "evalue": "'tuple' object does not support item assignment",
     "output_type": "error",
     "traceback": [
      "\u001b[1;31m---------------------------------------------------------------------------\u001b[0m",
      "\u001b[1;31mTypeError\u001b[0m                                 Traceback (most recent call last)",
      "\u001b[1;32m~\\AppData\\Local\\Temp/ipykernel_12456/3075211525.py\u001b[0m in \u001b[0;36m<module>\u001b[1;34m\u001b[0m\n\u001b[0;32m      7\u001b[0m \u001b[1;33m\u001b[0m\u001b[0m\n\u001b[0;32m      8\u001b[0m \u001b[1;31m#len\u001b[0m\u001b[1;33m\u001b[0m\u001b[1;33m\u001b[0m\u001b[1;33m\u001b[0m\u001b[0m\n\u001b[1;32m----> 9\u001b[1;33m \u001b[0mamir\u001b[0m\u001b[1;33m[\u001b[0m\u001b[1;36m3\u001b[0m\u001b[1;33m]\u001b[0m \u001b[1;33m=\u001b[0m \u001b[1;34m\"man\"\u001b[0m\u001b[1;33m\u001b[0m\u001b[1;33m\u001b[0m\u001b[0m\n\u001b[0m\u001b[0;32m     10\u001b[0m \u001b[1;31m#str_var1[5] = 'f'\u001b[0m\u001b[1;33m\u001b[0m\u001b[1;33m\u001b[0m\u001b[1;33m\u001b[0m\u001b[0m\n",
      "\u001b[1;31mTypeError\u001b[0m: 'tuple' object does not support item assignment"
     ]
    }
   ],
   "source": [
    "amir = (0, 2, 4, 6, 8, 10)\n",
    "amin = (2, 3, 14.45, \"salam\", \"3\", True)\n",
    "\n",
    "print(amir)\n",
    "amin[1] == amin[4]\n",
    "\n",
    "\n",
    "#len\n",
    "amir[3] = \"man\"\n",
    "#str_var1[5] = 'f'\n",
    "print(amir)"
   ]
  },
  {
   "cell_type": "markdown",
   "id": "e7340d2c",
   "metadata": {},
   "source": [
    "### List"
   ]
  },
  {
   "cell_type": "code",
   "execution_count": null,
   "id": "627ebeec",
   "metadata": {
    "scrolled": false
   },
   "outputs": [],
   "source": [
    "list1 = [2, 3, 14.45, '4.73', 'Byte', True]\n",
    "list2 = [\"1\", \"3\", \"5\", \"7\", \"9\", \"0\"]\n",
    "\n",
    "print(list1)\n",
    "print(list2)"
   ]
  },
  {
   "cell_type": "code",
   "execution_count": null,
   "id": "be3686ef",
   "metadata": {
    "scrolled": false
   },
   "outputs": [],
   "source": [
    "ls = [1, 2, 3, 4, \"Sajad\", True]\n",
    "print(len(ls))\n",
    "print(ls)"
   ]
  },
  {
   "cell_type": "code",
   "execution_count": null,
   "id": "7c576a6f",
   "metadata": {
    "scrolled": false
   },
   "outputs": [],
   "source": [
    "ls[1] += 10\n",
    "print(ls)"
   ]
  },
  {
   "cell_type": "code",
   "execution_count": null,
   "id": "154b3918",
   "metadata": {
    "scrolled": false
   },
   "outputs": [],
   "source": [
    "ls = list(range(1,5)) # important in for loops\n",
    "ls.append('Sajad')\n",
    "ls.append(True)\n",
    "ls"
   ]
  },
  {
   "cell_type": "code",
   "execution_count": 21,
   "id": "8f113143",
   "metadata": {
    "scrolled": false
   },
   "outputs": [
    {
     "name": "stdout",
     "output_type": "stream",
     "text": [
      "['apple', 'orange', 'banana', 'cherry']\n"
     ]
    }
   ],
   "source": [
    "ls = [\"apple\", \"banana\", \"cherry\"]\n",
    "ls.insert(1, \"orange\")\n",
    "print(ls)"
   ]
  },
  {
   "cell_type": "code",
   "execution_count": 22,
   "id": "8bed7095",
   "metadata": {
    "scrolled": false
   },
   "outputs": [
    {
     "data": {
      "text/plain": [
       "['apple', 'orange', 'banana', 'cherry', 'mango', 'pineapple', 'papaya']"
      ]
     },
     "execution_count": 22,
     "metadata": {},
     "output_type": "execute_result"
    }
   ],
   "source": [
    "ls2 = [\"mango\", \"pineapple\", \"papaya\"]\n",
    "ls.extend(ls2)\n",
    "ls"
   ]
  },
  {
   "cell_type": "code",
   "execution_count": 23,
   "id": "38af9d9a",
   "metadata": {
    "scrolled": false
   },
   "outputs": [
    {
     "name": "stdout",
     "output_type": "stream",
     "text": [
      "['orange', 'cherry', 'mango', 'pineapple', 'papaya'] banana\n"
     ]
    }
   ],
   "source": [
    "ls.remove('apple')\n",
    "pop_el = ls.pop(1)\n",
    "print(ls, pop_el)"
   ]
  },
  {
   "cell_type": "markdown",
   "id": "a994c9ef",
   "metadata": {},
   "source": [
    "### Type Conversion "
   ]
  },
  {
   "cell_type": "code",
   "execution_count": 26,
   "id": "57170e33",
   "metadata": {
    "scrolled": false
   },
   "outputs": [
    {
     "name": "stdout",
     "output_type": "stream",
     "text": [
      "True\n",
      "23\n",
      "23.45\n",
      "23.45\n",
      "('2', '3', '.', '4', '5')\n",
      "['2', '3', '.', '4', '5']\n"
     ]
    }
   ],
   "source": [
    "print(bool(23.45))\n",
    "print(int(23.45))\n",
    "print(float(23.45))\n",
    "print(str(23.45))\n",
    "print(tuple(\"23.45\"))\n",
    "print(list(\"23.45\"))\n",
    "# eval()"
   ]
  },
  {
   "cell_type": "markdown",
   "id": "7688155a",
   "metadata": {},
   "source": [
    "### Switch Tuple element"
   ]
  },
  {
   "cell_type": "code",
   "execution_count": null,
   "id": "82e43ed5",
   "metadata": {
    "scrolled": false
   },
   "outputs": [],
   "source": []
  },
  {
   "cell_type": "markdown",
   "id": "8bdea167",
   "metadata": {},
   "source": [
    "### dictionary"
   ]
  },
  {
   "cell_type": "code",
   "execution_count": 27,
   "id": "1106ea77",
   "metadata": {
    "scrolled": false
   },
   "outputs": [
    {
     "data": {
      "text/plain": [
       "17"
      ]
     },
     "execution_count": 27,
     "metadata": {},
     "output_type": "execute_result"
    }
   ],
   "source": [
    "dict_ = {\"saman\":17, \"sara\":20, \"sam\":19}\n",
    "dict_['saman']"
   ]
  },
  {
   "cell_type": "code",
   "execution_count": 28,
   "id": "1216aa93",
   "metadata": {
    "scrolled": false
   },
   "outputs": [
    {
     "name": "stdout",
     "output_type": "stream",
     "text": [
      "dict_values([17, 20, 19])\n",
      "dict_keys(['saman', 'sara', 'sam'])\n"
     ]
    }
   ],
   "source": [
    "print(dict_.values())\n",
    "print(dict_.keys())"
   ]
  },
  {
   "cell_type": "code",
   "execution_count": 29,
   "id": "c552c99d",
   "metadata": {
    "scrolled": false
   },
   "outputs": [
    {
     "name": "stdout",
     "output_type": "stream",
     "text": [
      "dict_values([17, 20, 19, 12])\n",
      "dict_keys(['saman', 'sara', 'sam', 'samyar'])\n"
     ]
    }
   ],
   "source": [
    "dict_[\"samyar\"] = 12\n",
    "print(dict_.values())\n",
    "print(dict_.keys())"
   ]
  },
  {
   "cell_type": "code",
   "execution_count": null,
   "id": "57e17f40",
   "metadata": {
    "scrolled": false
   },
   "outputs": [],
   "source": [
    "dict_.pop('sam')\n",
    "print(dict_.values())\n",
    "print(dict_.keys())"
   ]
  },
  {
   "cell_type": "code",
   "execution_count": null,
   "id": "ce7c74b4",
   "metadata": {
    "scrolled": false
   },
   "outputs": [],
   "source": []
  },
  {
   "cell_type": "code",
   "execution_count": null,
   "id": "99cc6061",
   "metadata": {
    "scrolled": false
   },
   "outputs": [],
   "source": []
  },
  {
   "cell_type": "code",
   "execution_count": null,
   "id": "d830d8b8",
   "metadata": {
    "scrolled": false
   },
   "outputs": [],
   "source": []
  },
  {
   "cell_type": "code",
   "execution_count": null,
   "id": "017090db",
   "metadata": {
    "scrolled": false
   },
   "outputs": [],
   "source": []
  },
  {
   "cell_type": "code",
   "execution_count": null,
   "id": "fa7e1c3d",
   "metadata": {
    "scrolled": false
   },
   "outputs": [],
   "source": [
    "set1 = {10, 60, 30, 90, 50, 20, 70, 80, 40, 100}\n",
    "\n",
    "print(set1.pop())\n",
    "print(set1)\n",
    "print(set1.pop())\n",
    "print(set1)\n",
    "print(set1.pop())\n",
    "print(set1)\n",
    "print(set1.pop())\n",
    "print(set1)"
   ]
  },
  {
   "cell_type": "code",
   "execution_count": null,
   "id": "3650a9d9",
   "metadata": {
    "scrolled": false
   },
   "outputs": [],
   "source": []
  },
  {
   "cell_type": "code",
   "execution_count": null,
   "id": "59989e0a",
   "metadata": {
    "scrolled": false
   },
   "outputs": [],
   "source": [
    "x = input(\"Enter a number: \")\n",
    "if \".\" in x:\n",
    "    print(f\"Number {x} is a float.\")\n",
    "else:\n",
    "    print(f\"Number {x} is an integer.\")"
   ]
  },
  {
   "cell_type": "code",
   "execution_count": null,
   "id": "08d3bcfa",
   "metadata": {
    "scrolled": false
   },
   "outputs": [],
   "source": [
    "x = input(\"Enter a number: \")\n",
    "if \".\" in x:\n",
    "    print(abs(float(x)))\n",
    "else:\n",
    "    print(abs(int(x)))"
   ]
  },
  {
   "cell_type": "code",
   "execution_count": null,
   "id": "c21be6c3",
   "metadata": {
    "scrolled": false
   },
   "outputs": [],
   "source": [
    "print(range(1,12))"
   ]
  }
 ],
 "metadata": {
  "kernelspec": {
   "display_name": "Python 3 (ipykernel)",
   "language": "python",
   "name": "python3"
  },
  "language_info": {
   "codemirror_mode": {
    "name": "ipython",
    "version": 3
   },
   "file_extension": ".py",
   "mimetype": "text/x-python",
   "name": "python",
   "nbconvert_exporter": "python",
   "pygments_lexer": "ipython3",
   "version": "3.7.9"
  }
 },
 "nbformat": 4,
 "nbformat_minor": 5
}
