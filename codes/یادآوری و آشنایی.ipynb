{
  "nbformat": 4,
  "nbformat_minor": 0,
  "metadata": {
    "colab": {
      "name": "آشنایی.ipynb",
      "provenance": [],
      "collapsed_sections": []
    },
    "kernelspec": {
      "name": "python3",
      "display_name": "Python 3"
    },
    "language_info": {
      "name": "python"
    }
  },
  "cells": [
    {
      "cell_type": "markdown",
      "metadata": {
        "id": "2cJ7V1p-yI2d"
      },
      "source": [
        "جلسه ۱۴ مهر ماه ۱۴۰۰"
      ]
    },
    {
      "cell_type": "markdown",
      "metadata": {
        "id": "1W8b7f65vXSG"
      },
      "source": [
        "پایه هشتم\n"
      ]
    },
    {
      "cell_type": "code",
      "metadata": {
        "id": "qPZ4b_lxATg7"
      },
      "source": [
        "num = int(input())\n",
        "for i in range(num):\n",
        "    print(i)"
      ],
      "execution_count": null,
      "outputs": []
    },
    {
      "cell_type": "code",
      "metadata": {
        "id": "VOze095YAqbl"
      },
      "source": [
        "# List - Dict - Tuple"
      ],
      "execution_count": null,
      "outputs": []
    },
    {
      "cell_type": "code",
      "metadata": {
        "id": "qSQLi9NFA09y"
      },
      "source": [
        "# Series - Dataframe"
      ],
      "execution_count": null,
      "outputs": []
    },
    {
      "cell_type": "code",
      "metadata": {
        "colab": {
          "base_uri": "https://localhost:8080/"
        },
        "id": "SkK9G_BaA59d",
        "outputId": "f5e2553e-4c66-4fa9-ba2f-e58b652949f6"
      },
      "source": [
        "# یادآوری\n",
        "ls = []\n",
        "for i in range(7):\n",
        "    tmp = i**2\n",
        "    ls.append(tmp)\n",
        "print(ls)"
      ],
      "execution_count": 127,
      "outputs": [
        {
          "output_type": "stream",
          "name": "stdout",
          "text": [
            "[0, 1, 4, 9, 16, 25, 36]\n"
          ]
        }
      ]
    },
    {
      "cell_type": "code",
      "metadata": {
        "colab": {
          "base_uri": "https://localhost:8080/"
        },
        "id": "SNccQwlhCEsh",
        "outputId": "89ea4d29-01bb-432d-bb8e-ee28cda916b1"
      },
      "source": [
        "# یادآوری\n",
        "print(ls[6])\n",
        "print(ls)\n",
        "ls[6] = 9\n",
        "print(ls[6])\n",
        "print(ls)"
      ],
      "execution_count": 128,
      "outputs": [
        {
          "output_type": "stream",
          "name": "stdout",
          "text": [
            "36\n",
            "[0, 1, 4, 9, 16, 25, 36]\n",
            "9\n",
            "[0, 1, 4, 9, 16, 25, 9]\n"
          ]
        }
      ]
    },
    {
      "cell_type": "code",
      "metadata": {
        "colab": {
          "base_uri": "https://localhost:8080/"
        },
        "id": "77i100o1DqeD",
        "outputId": "a1d69db0-7b56-444f-9aff-f8523cf5ce70"
      },
      "source": [
        "a = 'sajad'\n",
        "b = 'armin'\n",
        "armin = [1,2,5]\n",
        "sajad = [4,3.14,1.62]\n",
        "u = [a, b]\n",
        "print(armin, sajad, u)"
      ],
      "execution_count": 129,
      "outputs": [
        {
          "output_type": "stream",
          "name": "stdout",
          "text": [
            "[1, 2, 5] [4, 3.14, 1.62] ['sajad', 'armin']\n"
          ]
        }
      ]
    },
    {
      "cell_type": "code",
      "metadata": {
        "id": "Idzwtp9IHL0h",
        "colab": {
          "base_uri": "https://localhost:8080/"
        },
        "outputId": "1bb5141a-bedd-4423-dc6a-208076b93329"
      },
      "source": [
        "# این چیزایی که اینجا نوشته میشه رو سخت نگیرید\n",
        "# بعدا توضیح میدمشون\n",
        "import pandas as pd\n",
        "df = pd.read_csv('https://raw.githubusercontent.com/sajadfaghfoor/dataset/main/daily_adj_candles/%D8%A2%D8%B3%D8%A7%D8%B3-%D8%AA.csv')\n",
        "pricels = list(df.close)\n",
        "len(pricels)\n"
      ],
      "execution_count": 133,
      "outputs": [
        {
          "output_type": "execute_result",
          "data": {
            "text/plain": [
              "1557"
            ]
          },
          "metadata": {},
          "execution_count": 133
        }
      ]
    },
    {
      "cell_type": "code",
      "metadata": {
        "colab": {
          "base_uri": "https://localhost:8080/",
          "height": 282
        },
        "id": "pTVxvfi5JRT3",
        "outputId": "5d5f4133-06f8-41b2-dd56-0a94941bc975"
      },
      "source": [
        "# این چیزایی که اینجا نوشته میشه رو سخت نگیرید\n",
        "# بعدا توضیح میدمشون\n",
        "import matplotlib.pyplot as plt\n",
        "import math\n",
        "plt.plot(list(map(math.log, price)))"
      ],
      "execution_count": 134,
      "outputs": [
        {
          "output_type": "execute_result",
          "data": {
            "text/plain": [
              "[<matplotlib.lines.Line2D at 0x7fd10c53e350>]"
            ]
          },
          "metadata": {},
          "execution_count": 134
        },
        {
          "output_type": "display_data",
          "data": {
            "image/png": "[encoded data removed]",
            "text/plain": [
              "<Figure size 432x288 with 1 Axes>"
            ]
          },
          "metadata": {
            "needs_background": "light"
          }
        }
      ]
    },
    {
      "cell_type": "code",
      "metadata": {
        "id": "LLKyori4KBeL"
      },
      "source": [
        "def panic_mode(todayp, lastweekp):\n",
        "    if todayp / lastweekp < 0.9:\n",
        "        return True\n",
        "    return False\n",
        "\n",
        "def profit_mode(todayp, lastweekp):\n",
        "    if todayp / lastweekp > 1.1:\n",
        "        return True\n",
        "    return False\n",
        "\n",
        "length = len(pricels)\n",
        "wealth = 100 # 100 MT\n",
        "inMarket = False\n",
        "tsahm = 0\n",
        "\n",
        "wealthls = []\n",
        "\n",
        "for i in range(7, length):\n",
        "    todayp = pricels[i]\n",
        "    lastweekp = pricels[i-7]\n",
        "    panicing = panic_mode(todayp, lastweekp)\n",
        "    profit = profit_mode(todayp, lastweekp)\n",
        "\n",
        "    wealthls.append(wealth + tsahm * todayp)\n",
        "    \n",
        "    if panicing:\n",
        "        if inMarket:\n",
        "            wealth = (todayp * tsahm)*0.9925\n",
        "            inMarket = False\n",
        "        # print('panic', i)\n",
        "    elif profit:\n",
        "        if not inMarket:\n",
        "            tsahm = wealth * 0.9925 / todayp\n",
        "            wealth = 0\n",
        "            inMarket = True\n",
        "        # print('profit', i)"
      ],
      "execution_count": 136,
      "outputs": []
    },
    {
      "cell_type": "code",
      "metadata": {
        "colab": {
          "base_uri": "https://localhost:8080/",
          "height": 282
        },
        "id": "vA3lsTHoNvOw",
        "outputId": "574525ea-4476-41ee-ccf8-111572bea16b"
      },
      "source": [
        "plt.plot(wealthls)"
      ],
      "execution_count": 137,
      "outputs": [
        {
          "output_type": "execute_result",
          "data": {
            "text/plain": [
              "[<matplotlib.lines.Line2D at 0x7fd10c4948d0>]"
            ]
          },
          "metadata": {},
          "execution_count": 137
        },
        {
          "output_type": "display_data",
          "data": {
            "image/png": "[encoded data removed]",
            "text/plain": [
              "<Figure size 432x288 with 1 Axes>"
            ]
          },
          "metadata": {
            "needs_background": "light"
          }
        }
      ]
    },
    {
      "cell_type": "markdown",
      "metadata": {
        "id": "kMHKsiLxx-y_"
      },
      "source": [
        "پایه نهم"
      ]
    },
    {
      "cell_type": "code",
      "metadata": {
        "colab": {
          "base_uri": "https://localhost:8080/"
        },
        "id": "P95uL48bbtU_",
        "outputId": "e1bbf309-d184-44d6-b3a0-297f30e79316"
      },
      "source": [
        "ls = []\n",
        "# ls.append()\n",
        "# ls.insert()\n",
        "ls = [1,2,3]\n",
        "ls[1] = 1231\n",
        "ls = ['Ilya', 'Radman', 'Hafez']\n",
        "for name in ls:\n",
        "    print(name, 'is good!')\n",
        "\n",
        "ls = ['Sajad']\n",
        "for i in range(len(ls)):\n",
        "    name = ls[i]\n",
        "    print(name, 'is the teacher!')"
      ],
      "execution_count": 139,
      "outputs": [
        {
          "output_type": "stream",
          "name": "stdout",
          "text": [
            "Ilya is good!\n",
            "Radman is good!\n",
            "Hafez is good!\n",
            "Sajad is the teacher!\n"
          ]
        }
      ]
    },
    {
      "cell_type": "code",
      "metadata": {
        "id": "PsMeV3bcceu6"
      },
      "source": [
        "dic_price = {'close': {\"2\":100, \"1\":101, \"0\":105}, 'vol': [1000, 900, 1020]}\n",
        "d = {'sajad': 21, 'ali': 14}\n",
        "# dic_price['close']['2']"
      ],
      "execution_count": null,
      "outputs": []
    },
    {
      "cell_type": "code",
      "metadata": {
        "id": "TpY4WaVCdNO-"
      },
      "source": [
        "import pandas as pd\n",
        "df = pd.read_csv('https://raw.githubusercontent.com/sajadfaghfoor/dataset/main/daily_adj_candles/%D9%88%D9%86%D9%88%DB%8C%D9%86-%D8%AA.csv')"
      ],
      "execution_count": 144,
      "outputs": []
    },
    {
      "cell_type": "code",
      "metadata": {
        "id": "25MI_i07hjV6",
        "colab": {
          "base_uri": "https://localhost:8080/"
        },
        "outputId": "fe1ad017-b062-47c6-b331-4d3b25d41bb4"
      },
      "source": [
        "# df2 = df.set_index('date')\n",
        "df['close']\n",
        "df.loc[1, 'vol']"
      ],
      "execution_count": 145,
      "outputs": [
        {
          "output_type": "execute_result",
          "data": {
            "text/plain": [
              "3200"
            ]
          },
          "metadata": {},
          "execution_count": 145
        }
      ]
    },
    {
      "cell_type": "code",
      "metadata": {
        "colab": {
          "base_uri": "https://localhost:8080/",
          "height": 110
        },
        "id": "2OTwtdJBjjSI",
        "outputId": "b85556af-24fe-4285-c76f-dec635908da2"
      },
      "source": [
        "df['close7Shifted'] = df['close'].shift(-7)\n",
        "pdf = df[df['close7Shifted'] > 1.1*df['close']]\n",
        "pdf.head(2)"
      ],
      "execution_count": 146,
      "outputs": [
        {
          "output_type": "execute_result",
          "data": {
            "text/html": [
              "<div>\n",
              "<style scoped>\n",
              "    .dataframe tbody tr th:only-of-type {\n",
              "        vertical-align: middle;\n",
              "    }\n",
              "\n",
              "    .dataframe tbody tr th {\n",
              "        vertical-align: top;\n",
              "    }\n",
              "\n",
              "    .dataframe thead th {\n",
              "        text-align: right;\n",
              "    }\n",
              "</style>\n",
              "<table border=\"1\" class=\"dataframe\">\n",
              "  <thead>\n",
              "    <tr style=\"text-align: right;\">\n",
              "      <th></th>\n",
              "      <th>date</th>\n",
              "      <th>open</th>\n",
              "      <th>high</th>\n",
              "      <th>low</th>\n",
              "      <th>last</th>\n",
              "      <th>close</th>\n",
              "      <th>vol</th>\n",
              "      <th>count</th>\n",
              "      <th>value</th>\n",
              "      <th>close7Shifted</th>\n",
              "    </tr>\n",
              "  </thead>\n",
              "  <tbody>\n",
              "    <tr>\n",
              "      <th>0</th>\n",
              "      <td>20040204</td>\n",
              "      <td>194.02</td>\n",
              "      <td>220.0</td>\n",
              "      <td>194.0</td>\n",
              "      <td>196.74</td>\n",
              "      <td>196.74</td>\n",
              "      <td>3500000</td>\n",
              "      <td>1777</td>\n",
              "      <td>1.313375e+10</td>\n",
              "      <td>263.70</td>\n",
              "    </tr>\n",
              "    <tr>\n",
              "      <th>1</th>\n",
              "      <td>20040207</td>\n",
              "      <td>206.55</td>\n",
              "      <td>207.0</td>\n",
              "      <td>197.0</td>\n",
              "      <td>196.90</td>\n",
              "      <td>196.90</td>\n",
              "      <td>3200</td>\n",
              "      <td>5</td>\n",
              "      <td>1.260462e+07</td>\n",
              "      <td>276.87</td>\n",
              "    </tr>\n",
              "  </tbody>\n",
              "</table>\n",
              "</div>"
            ],
            "text/plain": [
              "       date    open   high    low  ...      vol  count         value  close7Shifted\n",
              "0  20040204  194.02  220.0  194.0  ...  3500000   1777  1.313375e+10         263.70\n",
              "1  20040207  206.55  207.0  197.0  ...     3200      5  1.260462e+07         276.87\n",
              "\n",
              "[2 rows x 10 columns]"
            ]
          },
          "metadata": {},
          "execution_count": 146
        }
      ]
    },
    {
      "cell_type": "code",
      "metadata": {
        "colab": {
          "base_uri": "https://localhost:8080/",
          "height": 282
        },
        "id": "jNRFZIvkk2aC",
        "outputId": "851d0e65-95dc-4e62-a377-a6e430953c1c"
      },
      "source": [
        "# چرا تحلیل تکنیکال کار می‌کند؟\n",
        "plt.plot(pdf.index)"
      ],
      "execution_count": 147,
      "outputs": [
        {
          "output_type": "execute_result",
          "data": {
            "text/plain": [
              "[<matplotlib.lines.Line2D at 0x7fd10c39ee50>]"
            ]
          },
          "metadata": {},
          "execution_count": 147
        },
        {
          "output_type": "display_data",
          "data": {
            "image/png": "[encoded data removed]",
            "text/plain": [
              "<Figure size 432x288 with 1 Axes>"
            ]
          },
          "metadata": {
            "needs_background": "light"
          }
        }
      ]
    },
    {
      "cell_type": "code",
      "metadata": {
        "colab": {
          "base_uri": "https://localhost:8080/",
          "height": 282
        },
        "id": "-ZPO7HJnmNSG",
        "outputId": "7d220596-b2c7-4d6f-f638-739f9eeb8e8e"
      },
      "source": [
        "df.close.plot()"
      ],
      "execution_count": 148,
      "outputs": [
        {
          "output_type": "execute_result",
          "data": {
            "text/plain": [
              "<matplotlib.axes._subplots.AxesSubplot at 0x7fd10c3623d0>"
            ]
          },
          "metadata": {},
          "execution_count": 148
        },
        {
          "output_type": "display_data",
          "data": {
            "image/png": "[encoded data removed]",
            "text/plain": [
              "<Figure size 432x288 with 1 Axes>"
            ]
          },
          "metadata": {
            "needs_background": "light"
          }
        }
      ]
    },
    {
      "cell_type": "code",
      "metadata": {
        "colab": {
          "base_uri": "https://localhost:8080/",
          "height": 357
        },
        "id": "frqfDrsrm3lW",
        "outputId": "fd73fbf3-bca6-4cb9-917a-5dded1bc9dd0"
      },
      "source": [
        "df = df[['close']]\n",
        "df['close7Shifted'] = df['close'].shift(7)\n",
        "df.tail(10)"
      ],
      "execution_count": 149,
      "outputs": [
        {
          "output_type": "execute_result",
          "data": {
            "text/html": [
              "<div>\n",
              "<style scoped>\n",
              "    .dataframe tbody tr th:only-of-type {\n",
              "        vertical-align: middle;\n",
              "    }\n",
              "\n",
              "    .dataframe tbody tr th {\n",
              "        vertical-align: top;\n",
              "    }\n",
              "\n",
              "    .dataframe thead th {\n",
              "        text-align: right;\n",
              "    }\n",
              "</style>\n",
              "<table border=\"1\" class=\"dataframe\">\n",
              "  <thead>\n",
              "    <tr style=\"text-align: right;\">\n",
              "      <th></th>\n",
              "      <th>close</th>\n",
              "      <th>close7Shifted</th>\n",
              "    </tr>\n",
              "  </thead>\n",
              "  <tbody>\n",
              "    <tr>\n",
              "      <th>3510</th>\n",
              "      <td>4756.0</td>\n",
              "      <td>4618.0</td>\n",
              "    </tr>\n",
              "    <tr>\n",
              "      <th>3511</th>\n",
              "      <td>4707.0</td>\n",
              "      <td>4575.0</td>\n",
              "    </tr>\n",
              "    <tr>\n",
              "      <th>3512</th>\n",
              "      <td>4689.0</td>\n",
              "      <td>4646.0</td>\n",
              "    </tr>\n",
              "    <tr>\n",
              "      <th>3513</th>\n",
              "      <td>4693.0</td>\n",
              "      <td>4799.0</td>\n",
              "    </tr>\n",
              "    <tr>\n",
              "      <th>3514</th>\n",
              "      <td>4737.0</td>\n",
              "      <td>4704.0</td>\n",
              "    </tr>\n",
              "    <tr>\n",
              "      <th>3515</th>\n",
              "      <td>4815.0</td>\n",
              "      <td>4622.0</td>\n",
              "    </tr>\n",
              "    <tr>\n",
              "      <th>3516</th>\n",
              "      <td>4811.0</td>\n",
              "      <td>4641.0</td>\n",
              "    </tr>\n",
              "    <tr>\n",
              "      <th>3517</th>\n",
              "      <td>4661.0</td>\n",
              "      <td>4756.0</td>\n",
              "    </tr>\n",
              "    <tr>\n",
              "      <th>3518</th>\n",
              "      <td>4549.0</td>\n",
              "      <td>4707.0</td>\n",
              "    </tr>\n",
              "    <tr>\n",
              "      <th>3519</th>\n",
              "      <td>4648.0</td>\n",
              "      <td>4689.0</td>\n",
              "    </tr>\n",
              "  </tbody>\n",
              "</table>\n",
              "</div>"
            ],
            "text/plain": [
              "       close  close7Shifted\n",
              "3510  4756.0         4618.0\n",
              "3511  4707.0         4575.0\n",
              "3512  4689.0         4646.0\n",
              "3513  4693.0         4799.0\n",
              "3514  4737.0         4704.0\n",
              "3515  4815.0         4622.0\n",
              "3516  4811.0         4641.0\n",
              "3517  4661.0         4756.0\n",
              "3518  4549.0         4707.0\n",
              "3519  4648.0         4689.0"
            ]
          },
          "metadata": {},
          "execution_count": 149
        }
      ]
    },
    {
      "cell_type": "code",
      "metadata": {
        "id": "QiSqcrgFnuD7"
      },
      "source": [
        "index_sell = df[df['close'] / df['close7Shifted'] < 0.9].index\n",
        "index_buy = df[df['close'] / df['close7Shifted'] > 1.1].index"
      ],
      "execution_count": 150,
      "outputs": []
    },
    {
      "cell_type": "code",
      "metadata": {
        "id": "2MkRbfkUocxJ"
      },
      "source": [
        "saham = 0\n",
        "money = 100 \n",
        "\n",
        "max_idx = 3519\n",
        "idx = 0\n",
        "wealthls = [] \n",
        "while idx <= max_idx:\n",
        "    if idx in index_sell:\n",
        "        money += saham*df.loc[idx, 'close']\n",
        "        saham = 0\n",
        "    if idx in index_buy:\n",
        "        saham += money / df.loc[idx, 'close']\n",
        "        money = 0\n",
        "\n",
        "    wealth = df.loc[idx, 'close']*saham + money\n",
        "    wealthls.append(wealth)\n",
        "    idx += 1\n",
        "\n",
        "money += df.loc[max_idx, 'close']*saham\n",
        "saham = 0"
      ],
      "execution_count": 153,
      "outputs": []
    },
    {
      "cell_type": "code",
      "metadata": {
        "colab": {
          "base_uri": "https://localhost:8080/",
          "height": 282
        },
        "id": "5LuubjEJp2fr",
        "outputId": "8406e8d3-0ae8-44e5-a08e-30cb69feed4f"
      },
      "source": [
        "plt.plot(wealthls)"
      ],
      "execution_count": 154,
      "outputs": [
        {
          "output_type": "execute_result",
          "data": {
            "text/plain": [
              "[<matplotlib.lines.Line2D at 0x7fd10c42dc90>]"
            ]
          },
          "metadata": {},
          "execution_count": 154
        },
        {
          "output_type": "display_data",
          "data": {
            "image/png": "[encoded data removed]",
            "text/plain": [
              "<Figure size 432x288 with 1 Axes>"
            ]
          },
          "metadata": {
            "needs_background": "light"
          }
        }
      ]
    }
  ]
}